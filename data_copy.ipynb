{
 "cells": [
  {
   "cell_type": "code",
   "execution_count": 1,
   "id": "52548c2e",
   "metadata": {},
   "outputs": [
    {
     "name": "stdout",
     "output_type": "stream",
     "text": [
      "Total source files found: 598\n",
      "Symlinks created: 598\n",
      "Skipped due to name conflict or existing file: 0\n",
      "Files in target directory: 598\n"
     ]
    }
   ],
   "source": [
    "import os\n",
    "image_dirs = {\"Lucknow_airshed\":\"/home/rishabh.mondal/Brick-Kilns-project/ijcai_2025_kilns/data/processed_data/lucknow_airshed/images\"}\n",
    "target_directory = \"/home/rishabh.mondal/Brick-Kilns-project/ijcai_2025_kilns/domain_experiment/data/staclip/lucknow_airshed/images\"\n",
    "os.makedirs(target_directory, exist_ok=True)\n",
    "\n",
    "source_file_count = 0\n",
    "symlink_created = 0\n",
    "skipped = 0\n",
    "\n",
    "for src_dir in image_dirs.values():\n",
    "    for fname in os.listdir(src_dir):\n",
    "        src_path = os.path.join(src_dir, fname)\n",
    "        dst_path = os.path.join(target_directory, fname)\n",
    "        if os.path.isfile(src_path):\n",
    "            source_file_count += 1\n",
    "            try:\n",
    "                if not os.path.exists(dst_path):\n",
    "                    os.symlink(src_path, dst_path)\n",
    "                    symlink_created += 1\n",
    "                else:\n",
    "                    skipped += 1\n",
    "            except FileExistsError:\n",
    "                skipped += 1\n",
    "\n",
    "print(f\"Total source files found: {source_file_count}\")\n",
    "print(f\"Symlinks created: {symlink_created}\")\n",
    "print(f\"Skipped due to name conflict or existing file: {skipped}\")\n",
    "print(f\"Files in target directory: {len(os.listdir(target_directory))}\")"
   ]
  },
  {
   "cell_type": "code",
   "execution_count": null,
   "id": "74c4553a",
   "metadata": {},
   "outputs": [],
   "source": []
  }
 ],
 "metadata": {
  "kernelspec": {
   "display_name": "rishabh_sat",
   "language": "python",
   "name": "python3"
  },
  "language_info": {
   "codemirror_mode": {
    "name": "ipython",
    "version": 3
   },
   "file_extension": ".py",
   "mimetype": "text/x-python",
   "name": "python",
   "nbconvert_exporter": "python",
   "pygments_lexer": "ipython3",
   "version": "3.12.4"
  }
 },
 "nbformat": 4,
 "nbformat_minor": 5
}
